{
  "nbformat": 4,
  "nbformat_minor": 0,
  "metadata": {
    "colab": {
      "provenance": []
    },
    "kernelspec": {
      "name": "python3",
      "display_name": "Python 3"
    },
    "language_info": {
      "name": "python"
    }
  },
  "cells": [
    {
      "cell_type": "code",
      "execution_count": 1,
      "metadata": {
        "id": "NOZZloQ2Cl5m",
        "colab": {
          "base_uri": "https://localhost:8080/"
        },
        "outputId": "5f6b2126-d48f-48ec-f127-6ab7709559c3"
      },
      "outputs": [
        {
          "output_type": "stream",
          "name": "stdout",
          "text": [
            "what's your name ?nowrin\n",
            "whats your age ?200\n",
            "Hello nowrin.You are nowrin years old.\n"
          ]
        }
      ],
      "source": [
        "name = input (\"what's your name ?\")\n",
        "age = input (\"whats your age ?\")\n",
        "print (f\"Hello {name}.You are {name} years old.\")"
      ]
    },
    {
      "cell_type": "code",
      "source": [
        "num1 = float (input(\"Enter the first number:\"))\n",
        "num2 = float (input(\"Enter the second number:\"))\n",
        "\n",
        "print (\"addition:\", num1 + num2)\n",
        "print (\"subtraction\", num1 - num2)\n",
        "print (\"multiplication\", num1 * num2)\n",
        "print (\"division\", num1/num2)"
      ],
      "metadata": {
        "colab": {
          "base_uri": "https://localhost:8080/"
        },
        "id": "PQ7IRDHED31w",
        "outputId": "d81b219f-d4b0-4d92-9a0c-0413228b01e3"
      },
      "execution_count": 3,
      "outputs": [
        {
          "output_type": "stream",
          "name": "stdout",
          "text": [
            "Enter the first number:20\n",
            "Enter the second number:20\n",
            "addition: 40.0\n",
            "subtraction 0.0\n",
            "multiplication 400.0\n",
            "division 1.0\n"
          ]
        }
      ]
    },
    {
      "cell_type": "code",
      "source": [
        "num1 = float (input(\"Enter the first number:\"))\n",
        "num2 = float (input(\"Enter the second number:\"))\n",
        "\n",
        "print (\"addition:\", num1 + num2)\n",
        "print (\"subtraction\", num1 - num2)\n",
        "print (\"multiplication\", num1 * num2)\n",
        "print (\"division\", num1/num2)\n",
        "print (\"floor divison\", num1 // num2)\n",
        "print (\"modulo\", num1 % num2)\n",
        "print (\"exponent\", num1 ** num2)\n",
        "\n",
        "print (\"Is equal\", num1 == num2)\n",
        "print (\"Is not equal\", num1 != num2)\n",
        "print (\"Greater than\", num1>num2)\n",
        "print (\"Less than\", num1<num2)\n",
        "\n",
        "print (\"Both positive:\", num1 > 0 and num2 >0)"
      ],
      "metadata": {
        "colab": {
          "base_uri": "https://localhost:8080/"
        },
        "id": "UFHYU5OPFFC8",
        "outputId": "e5a8f564-b33a-4516-c6a3-2653ec3d04f9"
      },
      "execution_count": 5,
      "outputs": [
        {
          "output_type": "stream",
          "name": "stdout",
          "text": [
            "Enter the first number:20\n",
            "Enter the second number:20\n",
            "addition: 40.0\n",
            "subtraction 0.0\n",
            "multiplication 400.0\n",
            "division 1.0\n",
            "floor divison 1.0\n",
            "modulo 0.0\n",
            "exponent 1.048576e+26\n",
            "Is equal True\n",
            "Is not equal False\n",
            "Greater than False\n",
            "Less than False\n",
            "Both positive: True\n"
          ]
        }
      ]
    },
    {
      "cell_type": "code",
      "source": [
        "string = input (\"Enter any string:\")\n",
        "\n",
        "print (\"uppercase\", string.upper())\n",
        "print (\"lowercase\", string.lower())\n",
        "\n",
        "vowels = \"aeiou\"\n",
        "vowel_count = sum (1 for char in string . lower () if char in vowels )\n",
        "print (\"Number of vowels:\",vowel_count)\n",
        "\n",
        "print (\"reversed_string:\", string[::-1])\n",
        "print (\"Hyphenated string\", string.replace (\" \", \"-\"))"
      ],
      "metadata": {
        "colab": {
          "base_uri": "https://localhost:8080/"
        },
        "id": "Oux2q6e7HWFj",
        "outputId": "4e5ac79c-2d2a-4cc1-bd1b-26961d61b475"
      },
      "execution_count": 6,
      "outputs": [
        {
          "output_type": "stream",
          "name": "stdout",
          "text": [
            "Enter any string:nowrin\n",
            "uppercase NOWRIN\n",
            "lowercase nowrin\n",
            "Number of vowels: 2\n",
            "reversed_string: nirwon\n",
            "Hyphenated string nowrin\n"
          ]
        }
      ]
    },
    {
      "cell_type": "code",
      "source": [
        "number = [10,20,30,40,50]\n",
        "print (\"first element:\", number[0])\n",
        "print (\"last element\", number[-1])\n",
        "\n",
        "number.append(60)\n",
        "print (\"List after adding number:\" ,number)\n",
        "\n",
        "number.pop(1)\n",
        "print (\"List after removing second element:\", number)\n",
        "\n",
        "number.reverse()\n",
        "print(\"reversed list:\", number)\n",
        "\n",
        "total = sum(number)\n",
        "average = total/len(number)\n",
        "print (\"sum:\", total)\n",
        "print (\"average\", average)\n",
        "\n"
      ],
      "metadata": {
        "colab": {
          "base_uri": "https://localhost:8080/"
        },
        "id": "1VEsHctZJtlz",
        "outputId": "c3f99555-267f-49a8-a3e6-869a1c83c8aa"
      },
      "execution_count": 8,
      "outputs": [
        {
          "output_type": "stream",
          "name": "stdout",
          "text": [
            "first element: 10\n",
            "last element 50\n",
            "List after adding number: [10, 20, 30, 40, 50, 60]\n",
            "List after removing second element: [10, 30, 40, 50, 60]\n",
            "reversed list: [60, 50, 40, 30, 10]\n",
            "sum: 190\n",
            "average 38.0\n"
          ]
        }
      ]
    }
  ]
}
